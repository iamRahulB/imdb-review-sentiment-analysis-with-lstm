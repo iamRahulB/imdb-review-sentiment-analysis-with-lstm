{
 "cells": [
  {
   "cell_type": "code",
   "execution_count": 1,
   "id": "e2a410e5",
   "metadata": {
    "execution": {
     "iopub.execute_input": "2024-02-17T13:13:41.343339Z",
     "iopub.status.busy": "2024-02-17T13:13:41.343055Z",
     "iopub.status.idle": "2024-02-17T13:13:52.898932Z",
     "shell.execute_reply": "2024-02-17T13:13:52.898035Z"
    },
    "papermill": {
     "duration": 11.566784,
     "end_time": "2024-02-17T13:13:52.901103",
     "exception": false,
     "start_time": "2024-02-17T13:13:41.334319",
     "status": "completed"
    },
    "tags": []
   },
   "outputs": [
    {
     "name": "stderr",
     "output_type": "stream",
     "text": [
      "2024-02-17 13:13:43.795121: E external/local_xla/xla/stream_executor/cuda/cuda_dnn.cc:9261] Unable to register cuDNN factory: Attempting to register factory for plugin cuDNN when one has already been registered\n",
      "2024-02-17 13:13:43.795291: E external/local_xla/xla/stream_executor/cuda/cuda_fft.cc:607] Unable to register cuFFT factory: Attempting to register factory for plugin cuFFT when one has already been registered\n",
      "2024-02-17 13:13:43.945914: E external/local_xla/xla/stream_executor/cuda/cuda_blas.cc:1515] Unable to register cuBLAS factory: Attempting to register factory for plugin cuBLAS when one has already been registered\n"
     ]
    }
   ],
   "source": [
    "import pandas as pd\n",
    "import numpy as np \n",
    "import tensorflow\n",
    "from tensorflow import keras\n",
    "import re"
   ]
  },
  {
   "cell_type": "code",
   "execution_count": 2,
   "id": "cb264222",
   "metadata": {
    "execution": {
     "iopub.execute_input": "2024-02-17T13:13:52.917412Z",
     "iopub.status.busy": "2024-02-17T13:13:52.916851Z",
     "iopub.status.idle": "2024-02-17T13:13:54.208346Z",
     "shell.execute_reply": "2024-02-17T13:13:54.207369Z"
    },
    "papermill": {
     "duration": 1.3014,
     "end_time": "2024-02-17T13:13:54.210494",
     "exception": false,
     "start_time": "2024-02-17T13:13:52.909094",
     "status": "completed"
    },
    "tags": []
   },
   "outputs": [],
   "source": [
    "df=pd.read_csv(\"/kaggle/input/imdb-dataset-of-50k-movie-reviews/IMDB Dataset.csv\")"
   ]
  },
  {
   "cell_type": "code",
   "execution_count": 3,
   "id": "8094696c",
   "metadata": {
    "execution": {
     "iopub.execute_input": "2024-02-17T13:13:54.225722Z",
     "iopub.status.busy": "2024-02-17T13:13:54.225426Z",
     "iopub.status.idle": "2024-02-17T13:13:54.239534Z",
     "shell.execute_reply": "2024-02-17T13:13:54.238720Z"
    },
    "papermill": {
     "duration": 0.023452,
     "end_time": "2024-02-17T13:13:54.241228",
     "exception": false,
     "start_time": "2024-02-17T13:13:54.217776",
     "status": "completed"
    },
    "tags": []
   },
   "outputs": [
    {
     "data": {
      "text/html": [
       "<div>\n",
       "<style scoped>\n",
       "    .dataframe tbody tr th:only-of-type {\n",
       "        vertical-align: middle;\n",
       "    }\n",
       "\n",
       "    .dataframe tbody tr th {\n",
       "        vertical-align: top;\n",
       "    }\n",
       "\n",
       "    .dataframe thead th {\n",
       "        text-align: right;\n",
       "    }\n",
       "</style>\n",
       "<table border=\"1\" class=\"dataframe\">\n",
       "  <thead>\n",
       "    <tr style=\"text-align: right;\">\n",
       "      <th></th>\n",
       "      <th>review</th>\n",
       "      <th>sentiment</th>\n",
       "    </tr>\n",
       "  </thead>\n",
       "  <tbody>\n",
       "    <tr>\n",
       "      <th>0</th>\n",
       "      <td>One of the other reviewers has mentioned that ...</td>\n",
       "      <td>positive</td>\n",
       "    </tr>\n",
       "    <tr>\n",
       "      <th>1</th>\n",
       "      <td>A wonderful little production. &lt;br /&gt;&lt;br /&gt;The...</td>\n",
       "      <td>positive</td>\n",
       "    </tr>\n",
       "    <tr>\n",
       "      <th>2</th>\n",
       "      <td>I thought this was a wonderful way to spend ti...</td>\n",
       "      <td>positive</td>\n",
       "    </tr>\n",
       "    <tr>\n",
       "      <th>3</th>\n",
       "      <td>Basically there's a family where a little boy ...</td>\n",
       "      <td>negative</td>\n",
       "    </tr>\n",
       "    <tr>\n",
       "      <th>4</th>\n",
       "      <td>Petter Mattei's \"Love in the Time of Money\" is...</td>\n",
       "      <td>positive</td>\n",
       "    </tr>\n",
       "  </tbody>\n",
       "</table>\n",
       "</div>"
      ],
      "text/plain": [
       "                                              review sentiment\n",
       "0  One of the other reviewers has mentioned that ...  positive\n",
       "1  A wonderful little production. <br /><br />The...  positive\n",
       "2  I thought this was a wonderful way to spend ti...  positive\n",
       "3  Basically there's a family where a little boy ...  negative\n",
       "4  Petter Mattei's \"Love in the Time of Money\" is...  positive"
      ]
     },
     "execution_count": 3,
     "metadata": {},
     "output_type": "execute_result"
    }
   ],
   "source": [
    "df.head()"
   ]
  },
  {
   "cell_type": "code",
   "execution_count": 4,
   "id": "1c889dbd",
   "metadata": {
    "execution": {
     "iopub.execute_input": "2024-02-17T13:13:54.257335Z",
     "iopub.status.busy": "2024-02-17T13:13:54.256841Z",
     "iopub.status.idle": "2024-02-17T13:13:54.260768Z",
     "shell.execute_reply": "2024-02-17T13:13:54.260014Z"
    },
    "papermill": {
     "duration": 0.013799,
     "end_time": "2024-02-17T13:13:54.262399",
     "exception": false,
     "start_time": "2024-02-17T13:13:54.248600",
     "status": "completed"
    },
    "tags": []
   },
   "outputs": [],
   "source": [
    "def rem_tags(text):\n",
    "    cleaned=re.sub(\"<.*?>\",\"\",text)\n",
    "    \n",
    "    return cleaned"
   ]
  },
  {
   "cell_type": "code",
   "execution_count": 5,
   "id": "a1be95c8",
   "metadata": {
    "execution": {
     "iopub.execute_input": "2024-02-17T13:13:54.278271Z",
     "iopub.status.busy": "2024-02-17T13:13:54.277943Z",
     "iopub.status.idle": "2024-02-17T13:13:54.422371Z",
     "shell.execute_reply": "2024-02-17T13:13:54.421042Z"
    },
    "papermill": {
     "duration": 0.154703,
     "end_time": "2024-02-17T13:13:54.424587",
     "exception": false,
     "start_time": "2024-02-17T13:13:54.269884",
     "status": "completed"
    },
    "tags": []
   },
   "outputs": [],
   "source": [
    "df[\"review\"]=df[\"review\"].apply(rem_tags)"
   ]
  },
  {
   "cell_type": "code",
   "execution_count": 6,
   "id": "20098e8c",
   "metadata": {
    "execution": {
     "iopub.execute_input": "2024-02-17T13:13:54.441122Z",
     "iopub.status.busy": "2024-02-17T13:13:54.440766Z",
     "iopub.status.idle": "2024-02-17T13:13:54.577111Z",
     "shell.execute_reply": "2024-02-17T13:13:54.576208Z"
    },
    "papermill": {
     "duration": 0.146757,
     "end_time": "2024-02-17T13:13:54.579212",
     "exception": false,
     "start_time": "2024-02-17T13:13:54.432455",
     "status": "completed"
    },
    "tags": []
   },
   "outputs": [],
   "source": [
    "df[\"review\"]=df[\"review\"].apply(lambda x:x.lower())"
   ]
  },
  {
   "cell_type": "markdown",
   "id": "be6d2b15",
   "metadata": {
    "papermill": {
     "duration": 0.006722,
     "end_time": "2024-02-17T13:13:54.594291",
     "exception": false,
     "start_time": "2024-02-17T13:13:54.587569",
     "status": "completed"
    },
    "tags": []
   },
   "source": [
    "remove stop words"
   ]
  },
  {
   "cell_type": "code",
   "execution_count": 7,
   "id": "6c964c33",
   "metadata": {
    "execution": {
     "iopub.execute_input": "2024-02-17T13:13:54.610740Z",
     "iopub.status.busy": "2024-02-17T13:13:54.610427Z",
     "iopub.status.idle": "2024-02-17T13:13:56.060592Z",
     "shell.execute_reply": "2024-02-17T13:13:56.059942Z"
    },
    "papermill": {
     "duration": 1.460347,
     "end_time": "2024-02-17T13:13:56.062537",
     "exception": false,
     "start_time": "2024-02-17T13:13:54.602190",
     "status": "completed"
    },
    "tags": []
   },
   "outputs": [],
   "source": [
    "from nltk.corpus import stopwords\n",
    "\n",
    "stopwords=stopwords.words(\"english\")"
   ]
  },
  {
   "cell_type": "code",
   "execution_count": 8,
   "id": "4506d875",
   "metadata": {
    "execution": {
     "iopub.execute_input": "2024-02-17T13:13:56.078335Z",
     "iopub.status.busy": "2024-02-17T13:13:56.078002Z",
     "iopub.status.idle": "2024-02-17T13:13:56.082942Z",
     "shell.execute_reply": "2024-02-17T13:13:56.081853Z"
    },
    "papermill": {
     "duration": 0.014932,
     "end_time": "2024-02-17T13:13:56.084837",
     "exception": false,
     "start_time": "2024-02-17T13:13:56.069905",
     "status": "completed"
    },
    "tags": []
   },
   "outputs": [
    {
     "name": "stdout",
     "output_type": "stream",
     "text": [
      "['i', 'me', 'my', 'myself', 'we', 'our', 'ours', 'ourselves', 'you', \"you're\", \"you've\", \"you'll\", \"you'd\", 'your', 'yours', 'yourself', 'yourselves', 'he', 'him', 'his', 'himself', 'she', \"she's\", 'her', 'hers', 'herself', 'it', \"it's\", 'its', 'itself', 'they', 'them', 'their', 'theirs', 'themselves', 'what', 'which', 'who', 'whom', 'this', 'that', \"that'll\", 'these', 'those', 'am', 'is', 'are', 'was', 'were', 'be', 'been', 'being', 'have', 'has', 'had', 'having', 'do', 'does', 'did', 'doing', 'a', 'an', 'the', 'and', 'but', 'if', 'or', 'because', 'as', 'until', 'while', 'of', 'at', 'by', 'for', 'with', 'about', 'against', 'between', 'into', 'through', 'during', 'before', 'after', 'above', 'below', 'to', 'from', 'up', 'down', 'in', 'out', 'on', 'off', 'over', 'under', 'again', 'further', 'then', 'once', 'here', 'there', 'when', 'where', 'why', 'how', 'all', 'any', 'both', 'each', 'few', 'more', 'most', 'other', 'some', 'such', 'no', 'nor', 'not', 'only', 'own', 'same', 'so', 'than', 'too', 'very', 's', 't', 'can', 'will', 'just', 'don', \"don't\", 'should', \"should've\", 'now', 'd', 'll', 'm', 'o', 're', 've', 'y', 'ain', 'aren', \"aren't\", 'couldn', \"couldn't\", 'didn', \"didn't\", 'doesn', \"doesn't\", 'hadn', \"hadn't\", 'hasn', \"hasn't\", 'haven', \"haven't\", 'isn', \"isn't\", 'ma', 'mightn', \"mightn't\", 'mustn', \"mustn't\", 'needn', \"needn't\", 'shan', \"shan't\", 'shouldn', \"shouldn't\", 'wasn', \"wasn't\", 'weren', \"weren't\", 'won', \"won't\", 'wouldn', \"wouldn't\"]\n"
     ]
    }
   ],
   "source": [
    "print(stopwords)"
   ]
  },
  {
   "cell_type": "code",
   "execution_count": 9,
   "id": "7f1a7f21",
   "metadata": {
    "execution": {
     "iopub.execute_input": "2024-02-17T13:13:56.100797Z",
     "iopub.status.busy": "2024-02-17T13:13:56.100510Z",
     "iopub.status.idle": "2024-02-17T13:13:56.104885Z",
     "shell.execute_reply": "2024-02-17T13:13:56.104105Z"
    },
    "papermill": {
     "duration": 0.014608,
     "end_time": "2024-02-17T13:13:56.107007",
     "exception": false,
     "start_time": "2024-02-17T13:13:56.092399",
     "status": "completed"
    },
    "tags": []
   },
   "outputs": [],
   "source": [
    "def rem_stopwords(text):\n",
    "    clean=[]\n",
    "    for word in text.split():\n",
    "        if word not in stopwords:\n",
    "            clean.append(word)\n",
    "    return \" \".join(clean)\n",
    "    "
   ]
  },
  {
   "cell_type": "code",
   "execution_count": 10,
   "id": "5176f909",
   "metadata": {
    "execution": {
     "iopub.execute_input": "2024-02-17T13:13:56.122676Z",
     "iopub.status.busy": "2024-02-17T13:13:56.122149Z",
     "iopub.status.idle": "2024-02-17T13:14:13.575584Z",
     "shell.execute_reply": "2024-02-17T13:14:13.574595Z"
    },
    "papermill": {
     "duration": 17.463499,
     "end_time": "2024-02-17T13:14:13.577644",
     "exception": false,
     "start_time": "2024-02-17T13:13:56.114145",
     "status": "completed"
    },
    "tags": []
   },
   "outputs": [],
   "source": [
    "df[\"review\"]=df[\"review\"].apply(rem_stopwords)"
   ]
  },
  {
   "cell_type": "code",
   "execution_count": 11,
   "id": "3437bb87",
   "metadata": {
    "execution": {
     "iopub.execute_input": "2024-02-17T13:14:13.592987Z",
     "iopub.status.busy": "2024-02-17T13:14:13.592689Z",
     "iopub.status.idle": "2024-02-17T13:14:13.720058Z",
     "shell.execute_reply": "2024-02-17T13:14:13.719152Z"
    },
    "papermill": {
     "duration": 0.1371,
     "end_time": "2024-02-17T13:14:13.722164",
     "exception": false,
     "start_time": "2024-02-17T13:14:13.585064",
     "status": "completed"
    },
    "tags": []
   },
   "outputs": [],
   "source": [
    "df.drop_duplicates(inplace=True)"
   ]
  },
  {
   "cell_type": "code",
   "execution_count": 12,
   "id": "1e53e17c",
   "metadata": {
    "execution": {
     "iopub.execute_input": "2024-02-17T13:14:13.737907Z",
     "iopub.status.busy": "2024-02-17T13:14:13.737622Z",
     "iopub.status.idle": "2024-02-17T13:14:13.843603Z",
     "shell.execute_reply": "2024-02-17T13:14:13.842785Z"
    },
    "papermill": {
     "duration": 0.11562,
     "end_time": "2024-02-17T13:14:13.845274",
     "exception": false,
     "start_time": "2024-02-17T13:14:13.729654",
     "status": "completed"
    },
    "tags": []
   },
   "outputs": [
    {
     "data": {
      "text/plain": [
       "0"
      ]
     },
     "execution_count": 12,
     "metadata": {},
     "output_type": "execute_result"
    }
   ],
   "source": [
    "df.duplicated().sum()"
   ]
  },
  {
   "cell_type": "code",
   "execution_count": 13,
   "id": "99873c8e",
   "metadata": {
    "execution": {
     "iopub.execute_input": "2024-02-17T13:14:13.861268Z",
     "iopub.status.busy": "2024-02-17T13:14:13.860917Z",
     "iopub.status.idle": "2024-02-17T13:14:13.907438Z",
     "shell.execute_reply": "2024-02-17T13:14:13.906560Z"
    },
    "papermill": {
     "duration": 0.056448,
     "end_time": "2024-02-17T13:14:13.909177",
     "exception": false,
     "start_time": "2024-02-17T13:14:13.852729",
     "status": "completed"
    },
    "tags": []
   },
   "outputs": [],
   "source": [
    "df[\"review\"]=df[\"review\"].apply(lambda x : x.replace('\"',\"\"))"
   ]
  },
  {
   "cell_type": "code",
   "execution_count": 14,
   "id": "51e7d9bf",
   "metadata": {
    "execution": {
     "iopub.execute_input": "2024-02-17T13:14:13.925228Z",
     "iopub.status.busy": "2024-02-17T13:14:13.924924Z",
     "iopub.status.idle": "2024-02-17T13:14:13.998521Z",
     "shell.execute_reply": "2024-02-17T13:14:13.997658Z"
    },
    "papermill": {
     "duration": 0.08393,
     "end_time": "2024-02-17T13:14:14.000466",
     "exception": false,
     "start_time": "2024-02-17T13:14:13.916536",
     "status": "completed"
    },
    "tags": []
   },
   "outputs": [],
   "source": [
    "df[\"review\"]=df[\"review\"].apply(lambda x : x.replace(',',\"\"))"
   ]
  },
  {
   "cell_type": "code",
   "execution_count": 15,
   "id": "e3473ce6",
   "metadata": {
    "execution": {
     "iopub.execute_input": "2024-02-17T13:14:14.017396Z",
     "iopub.status.busy": "2024-02-17T13:14:14.017088Z",
     "iopub.status.idle": "2024-02-17T13:14:25.563245Z",
     "shell.execute_reply": "2024-02-17T13:14:25.562432Z"
    },
    "papermill": {
     "duration": 11.557397,
     "end_time": "2024-02-17T13:14:25.565339",
     "exception": false,
     "start_time": "2024-02-17T13:14:14.007942",
     "status": "completed"
    },
    "tags": []
   },
   "outputs": [],
   "source": [
    "import gensim\n",
    "from gensim.utils import simple_preprocess"
   ]
  },
  {
   "cell_type": "code",
   "execution_count": 16,
   "id": "9ae56f1d",
   "metadata": {
    "execution": {
     "iopub.execute_input": "2024-02-17T13:14:25.581754Z",
     "iopub.status.busy": "2024-02-17T13:14:25.580855Z",
     "iopub.status.idle": "2024-02-17T13:14:25.584927Z",
     "shell.execute_reply": "2024-02-17T13:14:25.584378Z"
    },
    "papermill": {
     "duration": 0.013502,
     "end_time": "2024-02-17T13:14:25.586457",
     "exception": false,
     "start_time": "2024-02-17T13:14:25.572955",
     "status": "completed"
    },
    "tags": []
   },
   "outputs": [],
   "source": [
    "def gensim_preprocess(text):\n",
    "    cleaned=simple_preprocess(text)\n",
    "    \n",
    "    return cleaned"
   ]
  },
  {
   "cell_type": "code",
   "execution_count": 17,
   "id": "ddf74899",
   "metadata": {
    "execution": {
     "iopub.execute_input": "2024-02-17T13:14:25.601884Z",
     "iopub.status.busy": "2024-02-17T13:14:25.601482Z",
     "iopub.status.idle": "2024-02-17T13:14:33.198168Z",
     "shell.execute_reply": "2024-02-17T13:14:33.197222Z"
    },
    "papermill": {
     "duration": 7.607741,
     "end_time": "2024-02-17T13:14:33.201208",
     "exception": false,
     "start_time": "2024-02-17T13:14:25.593467",
     "status": "completed"
    },
    "tags": []
   },
   "outputs": [],
   "source": [
    "df[\"review\"]=df[\"review\"].apply(gensim_preprocess)"
   ]
  },
  {
   "cell_type": "code",
   "execution_count": 18,
   "id": "d16fd7e1",
   "metadata": {
    "execution": {
     "iopub.execute_input": "2024-02-17T13:14:33.217161Z",
     "iopub.status.busy": "2024-02-17T13:14:33.216874Z",
     "iopub.status.idle": "2024-02-17T13:14:33.229642Z",
     "shell.execute_reply": "2024-02-17T13:14:33.228886Z"
    },
    "papermill": {
     "duration": 0.022947,
     "end_time": "2024-02-17T13:14:33.231565",
     "exception": false,
     "start_time": "2024-02-17T13:14:33.208618",
     "status": "completed"
    },
    "tags": []
   },
   "outputs": [
    {
     "data": {
      "text/plain": [
       "23355    [big, fan, first, critters, movie, second, epi...\n",
       "7138     [like, david, hamilton, artistic, photographs,...\n",
       "15380    [sure, film, advertised, wild, quirky, laugh, ...\n",
       "Name: review, dtype: object"
      ]
     },
     "execution_count": 18,
     "metadata": {},
     "output_type": "execute_result"
    }
   ],
   "source": [
    "df[\"review\"].sample(3)"
   ]
  },
  {
   "cell_type": "code",
   "execution_count": 19,
   "id": "43ef3326",
   "metadata": {
    "execution": {
     "iopub.execute_input": "2024-02-17T13:14:33.247947Z",
     "iopub.status.busy": "2024-02-17T13:14:33.247684Z",
     "iopub.status.idle": "2024-02-17T13:14:33.251289Z",
     "shell.execute_reply": "2024-02-17T13:14:33.250437Z"
    },
    "papermill": {
     "duration": 0.013552,
     "end_time": "2024-02-17T13:14:33.252837",
     "exception": false,
     "start_time": "2024-02-17T13:14:33.239285",
     "status": "completed"
    },
    "tags": []
   },
   "outputs": [],
   "source": [
    "# now tokenize\n",
    "\n",
    "from keras.preprocessing.text import Tokenizer\n",
    "\n",
    "tok=Tokenizer()"
   ]
  },
  {
   "cell_type": "code",
   "execution_count": 20,
   "id": "bdca9b89",
   "metadata": {
    "execution": {
     "iopub.execute_input": "2024-02-17T13:14:33.268936Z",
     "iopub.status.busy": "2024-02-17T13:14:33.268602Z",
     "iopub.status.idle": "2024-02-17T13:14:33.272665Z",
     "shell.execute_reply": "2024-02-17T13:14:33.271693Z"
    },
    "papermill": {
     "duration": 0.013766,
     "end_time": "2024-02-17T13:14:33.274110",
     "exception": false,
     "start_time": "2024-02-17T13:14:33.260344",
     "status": "completed"
    },
    "tags": []
   },
   "outputs": [],
   "source": [
    "x=df[\"review\"]\n",
    "y=df[\"sentiment\"]"
   ]
  },
  {
   "cell_type": "code",
   "execution_count": 21,
   "id": "e7241755",
   "metadata": {
    "execution": {
     "iopub.execute_input": "2024-02-17T13:14:33.289615Z",
     "iopub.status.busy": "2024-02-17T13:14:33.289127Z",
     "iopub.status.idle": "2024-02-17T13:14:33.308203Z",
     "shell.execute_reply": "2024-02-17T13:14:33.307514Z"
    },
    "papermill": {
     "duration": 0.028719,
     "end_time": "2024-02-17T13:14:33.309909",
     "exception": false,
     "start_time": "2024-02-17T13:14:33.281190",
     "status": "completed"
    },
    "tags": []
   },
   "outputs": [],
   "source": [
    "y=y.apply(lambda x: 1 if x==\"positive\" else 0)"
   ]
  },
  {
   "cell_type": "code",
   "execution_count": 22,
   "id": "39e94006",
   "metadata": {
    "execution": {
     "iopub.execute_input": "2024-02-17T13:14:33.325261Z",
     "iopub.status.busy": "2024-02-17T13:14:33.325011Z",
     "iopub.status.idle": "2024-02-17T13:14:33.333980Z",
     "shell.execute_reply": "2024-02-17T13:14:33.333258Z"
    },
    "papermill": {
     "duration": 0.018207,
     "end_time": "2024-02-17T13:14:33.335388",
     "exception": false,
     "start_time": "2024-02-17T13:14:33.317181",
     "status": "completed"
    },
    "tags": []
   },
   "outputs": [],
   "source": [
    "from sklearn.model_selection import train_test_split\n",
    "\n",
    "X_train,X_test,y_train,y_test=train_test_split(x,y,test_size=0.2,random_state=1)"
   ]
  },
  {
   "cell_type": "code",
   "execution_count": 23,
   "id": "b684cab3",
   "metadata": {
    "execution": {
     "iopub.execute_input": "2024-02-17T13:14:33.351103Z",
     "iopub.status.busy": "2024-02-17T13:14:33.350752Z",
     "iopub.status.idle": "2024-02-17T13:14:33.360961Z",
     "shell.execute_reply": "2024-02-17T13:14:33.360157Z"
    },
    "papermill": {
     "duration": 0.020603,
     "end_time": "2024-02-17T13:14:33.363086",
     "exception": false,
     "start_time": "2024-02-17T13:14:33.342483",
     "status": "completed"
    },
    "tags": []
   },
   "outputs": [
    {
     "data": {
      "text/plain": [
       "15487    [call, we, re, back, dinosaur, story, simply, ...\n",
       "15103    [give, five, five, marks, hendrix, delivers, d...\n",
       "32741    [problem, tv, today, people, spoiled, lite, tv...\n",
       "40       [clichés, movies, type, substance, plot, went,...\n",
       "11786    [big, fan, musicals, loved, films, fred, astai...\n",
       "                               ...                        \n",
       "44037    [watching, series, probably, make, feel, like,...\n",
       "32697    [went, movie, knowing, nothing, it, ended, rea...\n",
       "5195     [lot, horror, fans, seem, love, scarecrows, po...\n",
       "12195    [first, minutes, every, cliche, possible, trot...\n",
       "33190    [begin, fear, dentists, movie, gives, creeps, ...\n",
       "Name: review, Length: 39663, dtype: object"
      ]
     },
     "execution_count": 23,
     "metadata": {},
     "output_type": "execute_result"
    }
   ],
   "source": [
    "X_train"
   ]
  },
  {
   "cell_type": "code",
   "execution_count": 24,
   "id": "13729b05",
   "metadata": {
    "execution": {
     "iopub.execute_input": "2024-02-17T13:14:33.380742Z",
     "iopub.status.busy": "2024-02-17T13:14:33.380087Z",
     "iopub.status.idle": "2024-02-17T13:14:36.962082Z",
     "shell.execute_reply": "2024-02-17T13:14:36.961399Z"
    },
    "papermill": {
     "duration": 3.592856,
     "end_time": "2024-02-17T13:14:36.963918",
     "exception": false,
     "start_time": "2024-02-17T13:14:33.371062",
     "status": "completed"
    },
    "tags": []
   },
   "outputs": [],
   "source": [
    "tok.fit_on_texts(X_train)"
   ]
  },
  {
   "cell_type": "code",
   "execution_count": 25,
   "id": "c1a5ea23",
   "metadata": {
    "execution": {
     "iopub.execute_input": "2024-02-17T13:14:36.980139Z",
     "iopub.status.busy": "2024-02-17T13:14:36.979812Z",
     "iopub.status.idle": "2024-02-17T13:14:36.984910Z",
     "shell.execute_reply": "2024-02-17T13:14:36.984176Z"
    },
    "papermill": {
     "duration": 0.01481,
     "end_time": "2024-02-17T13:14:36.986451",
     "exception": false,
     "start_time": "2024-02-17T13:14:36.971641",
     "status": "completed"
    },
    "tags": []
   },
   "outputs": [
    {
     "data": {
      "text/plain": [
       "96805"
      ]
     },
     "execution_count": 25,
     "metadata": {},
     "output_type": "execute_result"
    }
   ],
   "source": [
    "len(tok.word_index)"
   ]
  },
  {
   "cell_type": "code",
   "execution_count": 26,
   "id": "732c5953",
   "metadata": {
    "execution": {
     "iopub.execute_input": "2024-02-17T13:14:37.003144Z",
     "iopub.status.busy": "2024-02-17T13:14:37.002812Z",
     "iopub.status.idle": "2024-02-17T13:14:39.444017Z",
     "shell.execute_reply": "2024-02-17T13:14:39.443128Z"
    },
    "papermill": {
     "duration": 2.451688,
     "end_time": "2024-02-17T13:14:39.446075",
     "exception": false,
     "start_time": "2024-02-17T13:14:36.994387",
     "status": "completed"
    },
    "tags": []
   },
   "outputs": [],
   "source": [
    "X_train = tok.texts_to_sequences(X_train)\n",
    "X_test = tok.texts_to_sequences(X_test)"
   ]
  },
  {
   "cell_type": "code",
   "execution_count": 27,
   "id": "99da27f3",
   "metadata": {
    "execution": {
     "iopub.execute_input": "2024-02-17T13:14:39.462504Z",
     "iopub.status.busy": "2024-02-17T13:14:39.462202Z",
     "iopub.status.idle": "2024-02-17T13:14:39.468965Z",
     "shell.execute_reply": "2024-02-17T13:14:39.468132Z"
    },
    "papermill": {
     "duration": 0.016737,
     "end_time": "2024-02-17T13:14:39.470605",
     "exception": false,
     "start_time": "2024-02-17T13:14:39.453868",
     "status": "completed"
    },
    "tags": []
   },
   "outputs": [
    {
     "data": {
      "text/plain": [
       "[570,\n",
       " 355,\n",
       " 160,\n",
       " 58,\n",
       " 4067,\n",
       " 11,\n",
       " 242,\n",
       " 10075,\n",
       " 224,\n",
       " 7642,\n",
       " 1143,\n",
       " 156,\n",
       " 124,\n",
       " 32,\n",
       " 4,\n",
       " 1039,\n",
       " 1640,\n",
       " 807,\n",
       " 2463,\n",
       " 2088,\n",
       " 3042,\n",
       " 3,\n",
       " 907,\n",
       " 14888,\n",
       " 13,\n",
       " 1965,\n",
       " 424,\n",
       " 12,\n",
       " 2082,\n",
       " 2263,\n",
       " 214,\n",
       " 6472,\n",
       " 20765,\n",
       " 9539,\n",
       " 3064,\n",
       " 7352,\n",
       " 2509,\n",
       " 29946,\n",
       " 2368,\n",
       " 422,\n",
       " 5069,\n",
       " 4811,\n",
       " 39732,\n",
       " 1271,\n",
       " 1375,\n",
       " 243,\n",
       " 2037,\n",
       " 609,\n",
       " 10875,\n",
       " 32,\n",
       " 261,\n",
       " 188,\n",
       " 6473,\n",
       " 147,\n",
       " 3918,\n",
       " 41,\n",
       " 2588,\n",
       " 8223,\n",
       " 299,\n",
       " 1364,\n",
       " 695,\n",
       " 8224,\n",
       " 94,\n",
       " 3322,\n",
       " 481,\n",
       " 2210,\n",
       " 2734,\n",
       " 5011,\n",
       " 3,\n",
       " 183,\n",
       " 27929,\n",
       " 12773,\n",
       " 112,\n",
       " 163,\n",
       " 384,\n",
       " 1022,\n",
       " 86,\n",
       " 95,\n",
       " 1,\n",
       " 55,\n",
       " 323,\n",
       " 2717,\n",
       " 148,\n",
       " 1446,\n",
       " 1227,\n",
       " 403,\n",
       " 191,\n",
       " 10723,\n",
       " 15244,\n",
       " 143,\n",
       " 10,\n",
       " 70,\n",
       " 53,\n",
       " 214,\n",
       " 6472,\n",
       " 3899,\n",
       " 466,\n",
       " 344,\n",
       " 11035,\n",
       " 466,\n",
       " 69,\n",
       " 1657,\n",
       " 11036,\n",
       " 189,\n",
       " 223]"
      ]
     },
     "execution_count": 27,
     "metadata": {},
     "output_type": "execute_result"
    }
   ],
   "source": [
    "X_train[0]"
   ]
  },
  {
   "cell_type": "code",
   "execution_count": 28,
   "id": "8b856451",
   "metadata": {
    "execution": {
     "iopub.execute_input": "2024-02-17T13:14:39.487051Z",
     "iopub.status.busy": "2024-02-17T13:14:39.486750Z",
     "iopub.status.idle": "2024-02-17T13:14:39.490915Z",
     "shell.execute_reply": "2024-02-17T13:14:39.490008Z"
    },
    "papermill": {
     "duration": 0.014464,
     "end_time": "2024-02-17T13:14:39.492719",
     "exception": false,
     "start_time": "2024-02-17T13:14:39.478255",
     "status": "completed"
    },
    "tags": []
   },
   "outputs": [],
   "source": [
    "from keras.preprocessing.sequence import pad_sequences"
   ]
  },
  {
   "cell_type": "code",
   "execution_count": 29,
   "id": "d8ccb66d",
   "metadata": {
    "execution": {
     "iopub.execute_input": "2024-02-17T13:14:39.509229Z",
     "iopub.status.busy": "2024-02-17T13:14:39.508712Z",
     "iopub.status.idle": "2024-02-17T13:14:39.825336Z",
     "shell.execute_reply": "2024-02-17T13:14:39.824644Z"
    },
    "papermill": {
     "duration": 0.326957,
     "end_time": "2024-02-17T13:14:39.827333",
     "exception": false,
     "start_time": "2024-02-17T13:14:39.500376",
     "status": "completed"
    },
    "tags": []
   },
   "outputs": [],
   "source": [
    "X_train=pad_sequences(X_train,maxlen=100,padding=\"post\")\n",
    "X_test=pad_sequences(X_test,maxlen=100,padding=\"post\")"
   ]
  },
  {
   "cell_type": "code",
   "execution_count": 30,
   "id": "a7623b82",
   "metadata": {
    "execution": {
     "iopub.execute_input": "2024-02-17T13:14:39.844154Z",
     "iopub.status.busy": "2024-02-17T13:14:39.843878Z",
     "iopub.status.idle": "2024-02-17T13:14:39.849179Z",
     "shell.execute_reply": "2024-02-17T13:14:39.848366Z"
    },
    "papermill": {
     "duration": 0.015429,
     "end_time": "2024-02-17T13:14:39.850750",
     "exception": false,
     "start_time": "2024-02-17T13:14:39.835321",
     "status": "completed"
    },
    "tags": []
   },
   "outputs": [
    {
     "data": {
      "text/plain": [
       "array([   11,   242, 10075,   224,  7642,  1143,   156,   124,    32,\n",
       "           4,  1039,  1640,   807,  2463,  2088,  3042,     3,   907,\n",
       "       14888,    13,  1965,   424,    12,  2082,  2263,   214,  6472,\n",
       "       20765,  9539,  3064,  7352,  2509, 29946,  2368,   422,  5069,\n",
       "        4811, 39732,  1271,  1375,   243,  2037,   609, 10875,    32,\n",
       "         261,   188,  6473,   147,  3918,    41,  2588,  8223,   299,\n",
       "        1364,   695,  8224,    94,  3322,   481,  2210,  2734,  5011,\n",
       "           3,   183, 27929, 12773,   112,   163,   384,  1022,    86,\n",
       "          95,     1,    55,   323,  2717,   148,  1446,  1227,   403,\n",
       "         191, 10723, 15244,   143,    10,    70,    53,   214,  6472,\n",
       "        3899,   466,   344, 11035,   466,    69,  1657, 11036,   189,\n",
       "         223], dtype=int32)"
      ]
     },
     "execution_count": 30,
     "metadata": {},
     "output_type": "execute_result"
    }
   ],
   "source": [
    "X_train[0]"
   ]
  },
  {
   "cell_type": "code",
   "execution_count": 31,
   "id": "6cda725a",
   "metadata": {
    "execution": {
     "iopub.execute_input": "2024-02-17T13:14:39.867305Z",
     "iopub.status.busy": "2024-02-17T13:14:39.867040Z",
     "iopub.status.idle": "2024-02-17T13:14:39.870405Z",
     "shell.execute_reply": "2024-02-17T13:14:39.869723Z"
    },
    "papermill": {
     "duration": 0.013399,
     "end_time": "2024-02-17T13:14:39.871928",
     "exception": false,
     "start_time": "2024-02-17T13:14:39.858529",
     "status": "completed"
    },
    "tags": []
   },
   "outputs": [],
   "source": [
    "from keras.layers import Dense,Embedding,LSTM\n",
    "from keras.models import Sequential"
   ]
  },
  {
   "cell_type": "code",
   "execution_count": null,
   "id": "56424b8d",
   "metadata": {
    "papermill": {
     "duration": 0.007481,
     "end_time": "2024-02-17T13:14:39.887216",
     "exception": false,
     "start_time": "2024-02-17T13:14:39.879735",
     "status": "completed"
    },
    "tags": []
   },
   "outputs": [],
   "source": []
  },
  {
   "cell_type": "code",
   "execution_count": 32,
   "id": "ee9e459f",
   "metadata": {
    "execution": {
     "iopub.execute_input": "2024-02-17T13:14:39.904703Z",
     "iopub.status.busy": "2024-02-17T13:14:39.903876Z",
     "iopub.status.idle": "2024-02-17T13:14:39.910551Z",
     "shell.execute_reply": "2024-02-17T13:14:39.909634Z"
    },
    "papermill": {
     "duration": 0.01698,
     "end_time": "2024-02-17T13:14:39.912160",
     "exception": false,
     "start_time": "2024-02-17T13:14:39.895180",
     "status": "completed"
    },
    "tags": []
   },
   "outputs": [
    {
     "data": {
      "text/plain": [
       "0        1\n",
       "1        1\n",
       "2        1\n",
       "3        0\n",
       "4        1\n",
       "        ..\n",
       "49995    1\n",
       "49996    0\n",
       "49997    0\n",
       "49998    0\n",
       "49999    0\n",
       "Name: sentiment, Length: 49579, dtype: int64"
      ]
     },
     "execution_count": 32,
     "metadata": {},
     "output_type": "execute_result"
    }
   ],
   "source": [
    "y"
   ]
  },
  {
   "cell_type": "code",
   "execution_count": 33,
   "id": "c361b4bc",
   "metadata": {
    "execution": {
     "iopub.execute_input": "2024-02-17T13:14:39.929509Z",
     "iopub.status.busy": "2024-02-17T13:14:39.929150Z",
     "iopub.status.idle": "2024-02-17T13:14:40.313374Z",
     "shell.execute_reply": "2024-02-17T13:14:40.312590Z"
    },
    "papermill": {
     "duration": 0.395236,
     "end_time": "2024-02-17T13:14:40.315466",
     "exception": false,
     "start_time": "2024-02-17T13:14:39.920230",
     "status": "completed"
    },
    "tags": []
   },
   "outputs": [],
   "source": [
    "model=Sequential()\n",
    "model.add(Embedding(input_dim=len(tok.index_word)+1, output_dim=100,input_length=100))\n",
    "model.add(LSTM(150))\n",
    "model.add(Dense(units=1, activation='sigmoid'))"
   ]
  },
  {
   "cell_type": "code",
   "execution_count": 34,
   "id": "140f4eae",
   "metadata": {
    "execution": {
     "iopub.execute_input": "2024-02-17T13:14:40.333393Z",
     "iopub.status.busy": "2024-02-17T13:14:40.333021Z",
     "iopub.status.idle": "2024-02-17T13:14:40.349555Z",
     "shell.execute_reply": "2024-02-17T13:14:40.348764Z"
    },
    "papermill": {
     "duration": 0.027368,
     "end_time": "2024-02-17T13:14:40.351313",
     "exception": false,
     "start_time": "2024-02-17T13:14:40.323945",
     "status": "completed"
    },
    "tags": []
   },
   "outputs": [],
   "source": [
    "model.compile(optimizer='adam', loss='binary_crossentropy', metrics=['accuracy'])"
   ]
  },
  {
   "cell_type": "code",
   "execution_count": null,
   "id": "2c9006f7",
   "metadata": {
    "papermill": {
     "duration": 0.008446,
     "end_time": "2024-02-17T13:14:40.367848",
     "exception": false,
     "start_time": "2024-02-17T13:14:40.359402",
     "status": "completed"
    },
    "tags": []
   },
   "outputs": [],
   "source": []
  },
  {
   "cell_type": "code",
   "execution_count": 35,
   "id": "9baafab3",
   "metadata": {
    "execution": {
     "iopub.execute_input": "2024-02-17T13:14:40.385250Z",
     "iopub.status.busy": "2024-02-17T13:14:40.384895Z",
     "iopub.status.idle": "2024-02-17T13:37:50.052764Z",
     "shell.execute_reply": "2024-02-17T13:37:50.052047Z"
    },
    "papermill": {
     "duration": 1389.679275,
     "end_time": "2024-02-17T13:37:50.055015",
     "exception": false,
     "start_time": "2024-02-17T13:14:40.375740",
     "status": "completed"
    },
    "tags": []
   },
   "outputs": [
    {
     "name": "stdout",
     "output_type": "stream",
     "text": [
      "Epoch 1/10\n",
      "992/992 [==============================] - 140s 140ms/step - loss: 0.5440 - accuracy: 0.7200 - val_loss: 0.4056 - val_accuracy: 0.8395\n",
      "Epoch 2/10\n",
      "992/992 [==============================] - 138s 139ms/step - loss: 0.4909 - accuracy: 0.7780 - val_loss: 0.4412 - val_accuracy: 0.7887\n",
      "Epoch 3/10\n",
      "992/992 [==============================] - 138s 139ms/step - loss: 0.3497 - accuracy: 0.8564 - val_loss: 0.3806 - val_accuracy: 0.8150\n",
      "Epoch 4/10\n",
      "992/992 [==============================] - 138s 139ms/step - loss: 0.1803 - accuracy: 0.9348 - val_loss: 0.3471 - val_accuracy: 0.8664\n",
      "Epoch 5/10\n",
      "992/992 [==============================] - 139s 140ms/step - loss: 0.1091 - accuracy: 0.9653 - val_loss: 0.3776 - val_accuracy: 0.8640\n",
      "Epoch 6/10\n",
      "992/992 [==============================] - 139s 140ms/step - loss: 0.0645 - accuracy: 0.9818 - val_loss: 0.4963 - val_accuracy: 0.8549\n",
      "Epoch 7/10\n",
      "992/992 [==============================] - 140s 141ms/step - loss: 0.0438 - accuracy: 0.9880 - val_loss: 0.4840 - val_accuracy: 0.8586\n",
      "Epoch 8/10\n",
      "992/992 [==============================] - 139s 140ms/step - loss: 0.0286 - accuracy: 0.9932 - val_loss: 0.5902 - val_accuracy: 0.8581\n",
      "Epoch 9/10\n",
      "992/992 [==============================] - 139s 140ms/step - loss: 0.0194 - accuracy: 0.9958 - val_loss: 0.5784 - val_accuracy: 0.8547\n",
      "Epoch 10/10\n",
      "992/992 [==============================] - 139s 140ms/step - loss: 0.0141 - accuracy: 0.9968 - val_loss: 0.7245 - val_accuracy: 0.8536\n"
     ]
    }
   ],
   "source": [
    "history = model.fit(X_train,y_train , epochs=10, batch_size=32, validation_split=0.2)\n"
   ]
  },
  {
   "cell_type": "code",
   "execution_count": null,
   "id": "0d90c963",
   "metadata": {
    "papermill": {
     "duration": 0.574625,
     "end_time": "2024-02-17T13:37:51.255542",
     "exception": false,
     "start_time": "2024-02-17T13:37:50.680917",
     "status": "completed"
    },
    "tags": []
   },
   "outputs": [],
   "source": []
  }
 ],
 "metadata": {
  "kaggle": {
   "accelerator": "none",
   "dataSources": [
    {
     "datasetId": 134715,
     "sourceId": 320111,
     "sourceType": "datasetVersion"
    }
   ],
   "isGpuEnabled": false,
   "isInternetEnabled": true,
   "language": "python",
   "sourceType": "notebook"
  },
  "kernelspec": {
   "display_name": "Python 3",
   "language": "python",
   "name": "python3"
  },
  "language_info": {
   "codemirror_mode": {
    "name": "ipython",
    "version": 3
   },
   "file_extension": ".py",
   "mimetype": "text/x-python",
   "name": "python",
   "nbconvert_exporter": "python",
   "pygments_lexer": "ipython3",
   "version": "3.10.13"
  },
  "papermill": {
   "default_parameters": {},
   "duration": 1455.610974,
   "end_time": "2024-02-17T13:37:54.780669",
   "environment_variables": {},
   "exception": null,
   "input_path": "__notebook__.ipynb",
   "output_path": "__notebook__.ipynb",
   "parameters": {},
   "start_time": "2024-02-17T13:13:39.169695",
   "version": "2.5.0"
  }
 },
 "nbformat": 4,
 "nbformat_minor": 5
}
