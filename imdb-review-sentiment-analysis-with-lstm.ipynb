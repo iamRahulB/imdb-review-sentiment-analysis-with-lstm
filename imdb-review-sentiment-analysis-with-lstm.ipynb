{
 "cells": [
  {
   "cell_type": "code",
   "execution_count": 1,
   "id": "85df1e7d",
   "metadata": {
    "execution": {
     "iopub.execute_input": "2024-02-17T13:17:47.621546Z",
     "iopub.status.busy": "2024-02-17T13:17:47.621199Z",
     "iopub.status.idle": "2024-02-17T13:18:04.455672Z",
     "shell.execute_reply": "2024-02-17T13:18:04.453903Z"
    },
    "papermill": {
     "duration": 16.847003,
     "end_time": "2024-02-17T13:18:04.458217",
     "exception": false,
     "start_time": "2024-02-17T13:17:47.611214",
     "status": "completed"
    },
    "tags": []
   },
   "outputs": [
    {
     "name": "stderr",
     "output_type": "stream",
     "text": [
      "2024-02-17 13:17:51.131582: E external/local_xla/xla/stream_executor/cuda/cuda_dnn.cc:9261] Unable to register cuDNN factory: Attempting to register factory for plugin cuDNN when one has already been registered\n",
      "2024-02-17 13:17:51.131792: E external/local_xla/xla/stream_executor/cuda/cuda_fft.cc:607] Unable to register cuFFT factory: Attempting to register factory for plugin cuFFT when one has already been registered\n",
      "2024-02-17 13:17:51.368991: E external/local_xla/xla/stream_executor/cuda/cuda_blas.cc:1515] Unable to register cuBLAS factory: Attempting to register factory for plugin cuBLAS when one has already been registered\n"
     ]
    }
   ],
   "source": [
    "import pandas as pd\n",
    "import numpy as np \n",
    "import tensorflow\n",
    "from tensorflow import keras\n",
    "import re"
   ]
  },
  {
   "cell_type": "code",
   "execution_count": 2,
   "id": "38622cf1",
   "metadata": {
    "execution": {
     "iopub.execute_input": "2024-02-17T13:18:04.475584Z",
     "iopub.status.busy": "2024-02-17T13:18:04.474910Z",
     "iopub.status.idle": "2024-02-17T13:18:06.555214Z",
     "shell.execute_reply": "2024-02-17T13:18:06.554463Z"
    },
    "papermill": {
     "duration": 2.091531,
     "end_time": "2024-02-17T13:18:06.557446",
     "exception": false,
     "start_time": "2024-02-17T13:18:04.465915",
     "status": "completed"
    },
    "tags": []
   },
   "outputs": [],
   "source": [
    "df=pd.read_csv(\"/kaggle/input/imdb-dataset-of-50k-movie-reviews/IMDB Dataset.csv\")"
   ]
  },
  {
   "cell_type": "code",
   "execution_count": 3,
   "id": "38971d68",
   "metadata": {
    "execution": {
     "iopub.execute_input": "2024-02-17T13:18:06.574496Z",
     "iopub.status.busy": "2024-02-17T13:18:06.573905Z",
     "iopub.status.idle": "2024-02-17T13:18:06.595153Z",
     "shell.execute_reply": "2024-02-17T13:18:06.593761Z"
    },
    "papermill": {
     "duration": 0.032536,
     "end_time": "2024-02-17T13:18:06.597553",
     "exception": false,
     "start_time": "2024-02-17T13:18:06.565017",
     "status": "completed"
    },
    "tags": []
   },
   "outputs": [
    {
     "data": {
      "text/html": [
       "<div>\n",
       "<style scoped>\n",
       "    .dataframe tbody tr th:only-of-type {\n",
       "        vertical-align: middle;\n",
       "    }\n",
       "\n",
       "    .dataframe tbody tr th {\n",
       "        vertical-align: top;\n",
       "    }\n",
       "\n",
       "    .dataframe thead th {\n",
       "        text-align: right;\n",
       "    }\n",
       "</style>\n",
       "<table border=\"1\" class=\"dataframe\">\n",
       "  <thead>\n",
       "    <tr style=\"text-align: right;\">\n",
       "      <th></th>\n",
       "      <th>review</th>\n",
       "      <th>sentiment</th>\n",
       "    </tr>\n",
       "  </thead>\n",
       "  <tbody>\n",
       "    <tr>\n",
       "      <th>0</th>\n",
       "      <td>One of the other reviewers has mentioned that ...</td>\n",
       "      <td>positive</td>\n",
       "    </tr>\n",
       "    <tr>\n",
       "      <th>1</th>\n",
       "      <td>A wonderful little production. &lt;br /&gt;&lt;br /&gt;The...</td>\n",
       "      <td>positive</td>\n",
       "    </tr>\n",
       "    <tr>\n",
       "      <th>2</th>\n",
       "      <td>I thought this was a wonderful way to spend ti...</td>\n",
       "      <td>positive</td>\n",
       "    </tr>\n",
       "    <tr>\n",
       "      <th>3</th>\n",
       "      <td>Basically there's a family where a little boy ...</td>\n",
       "      <td>negative</td>\n",
       "    </tr>\n",
       "    <tr>\n",
       "      <th>4</th>\n",
       "      <td>Petter Mattei's \"Love in the Time of Money\" is...</td>\n",
       "      <td>positive</td>\n",
       "    </tr>\n",
       "  </tbody>\n",
       "</table>\n",
       "</div>"
      ],
      "text/plain": [
       "                                              review sentiment\n",
       "0  One of the other reviewers has mentioned that ...  positive\n",
       "1  A wonderful little production. <br /><br />The...  positive\n",
       "2  I thought this was a wonderful way to spend ti...  positive\n",
       "3  Basically there's a family where a little boy ...  negative\n",
       "4  Petter Mattei's \"Love in the Time of Money\" is...  positive"
      ]
     },
     "execution_count": 3,
     "metadata": {},
     "output_type": "execute_result"
    }
   ],
   "source": [
    "df.head()"
   ]
  },
  {
   "cell_type": "code",
   "execution_count": 4,
   "id": "38257e59",
   "metadata": {
    "execution": {
     "iopub.execute_input": "2024-02-17T13:18:06.614939Z",
     "iopub.status.busy": "2024-02-17T13:18:06.614551Z",
     "iopub.status.idle": "2024-02-17T13:18:06.619707Z",
     "shell.execute_reply": "2024-02-17T13:18:06.618127Z"
    },
    "papermill": {
     "duration": 0.01633,
     "end_time": "2024-02-17T13:18:06.621799",
     "exception": false,
     "start_time": "2024-02-17T13:18:06.605469",
     "status": "completed"
    },
    "tags": []
   },
   "outputs": [],
   "source": [
    "def rem_tags(text):\n",
    "    cleaned=re.sub(\"<.*?>\",\"\",text)\n",
    "    \n",
    "    return cleaned"
   ]
  },
  {
   "cell_type": "code",
   "execution_count": 5,
   "id": "e6bd9aa0",
   "metadata": {
    "execution": {
     "iopub.execute_input": "2024-02-17T13:18:06.639032Z",
     "iopub.status.busy": "2024-02-17T13:18:06.638658Z",
     "iopub.status.idle": "2024-02-17T13:18:06.795909Z",
     "shell.execute_reply": "2024-02-17T13:18:06.794224Z"
    },
    "papermill": {
     "duration": 0.169355,
     "end_time": "2024-02-17T13:18:06.798923",
     "exception": false,
     "start_time": "2024-02-17T13:18:06.629568",
     "status": "completed"
    },
    "tags": []
   },
   "outputs": [],
   "source": [
    "df[\"review\"]=df[\"review\"].apply(rem_tags)"
   ]
  },
  {
   "cell_type": "code",
   "execution_count": 6,
   "id": "42b5e395",
   "metadata": {
    "execution": {
     "iopub.execute_input": "2024-02-17T13:18:06.816958Z",
     "iopub.status.busy": "2024-02-17T13:18:06.816464Z",
     "iopub.status.idle": "2024-02-17T13:18:06.969643Z",
     "shell.execute_reply": "2024-02-17T13:18:06.968390Z"
    },
    "papermill": {
     "duration": 0.164859,
     "end_time": "2024-02-17T13:18:06.971816",
     "exception": false,
     "start_time": "2024-02-17T13:18:06.806957",
     "status": "completed"
    },
    "tags": []
   },
   "outputs": [],
   "source": [
    "df[\"review\"]=df[\"review\"].apply(lambda x:x.lower())"
   ]
  },
  {
   "cell_type": "markdown",
   "id": "eacd3663",
   "metadata": {
    "papermill": {
     "duration": 0.007256,
     "end_time": "2024-02-17T13:18:06.988398",
     "exception": false,
     "start_time": "2024-02-17T13:18:06.981142",
     "status": "completed"
    },
    "tags": []
   },
   "source": [
    "remove stop words"
   ]
  },
  {
   "cell_type": "code",
   "execution_count": 7,
   "id": "ee76a3e9",
   "metadata": {
    "execution": {
     "iopub.execute_input": "2024-02-17T13:18:07.004940Z",
     "iopub.status.busy": "2024-02-17T13:18:07.004576Z",
     "iopub.status.idle": "2024-02-17T13:18:09.160932Z",
     "shell.execute_reply": "2024-02-17T13:18:09.159103Z"
    },
    "papermill": {
     "duration": 2.167905,
     "end_time": "2024-02-17T13:18:09.163637",
     "exception": false,
     "start_time": "2024-02-17T13:18:06.995732",
     "status": "completed"
    },
    "tags": []
   },
   "outputs": [],
   "source": [
    "from nltk.corpus import stopwords\n",
    "\n",
    "stopwords=stopwords.words(\"english\")"
   ]
  },
  {
   "cell_type": "code",
   "execution_count": 8,
   "id": "6e7871b2",
   "metadata": {
    "execution": {
     "iopub.execute_input": "2024-02-17T13:18:09.187853Z",
     "iopub.status.busy": "2024-02-17T13:18:09.187429Z",
     "iopub.status.idle": "2024-02-17T13:18:09.192770Z",
     "shell.execute_reply": "2024-02-17T13:18:09.192021Z"
    },
    "papermill": {
     "duration": 0.017983,
     "end_time": "2024-02-17T13:18:09.195381",
     "exception": false,
     "start_time": "2024-02-17T13:18:09.177398",
     "status": "completed"
    },
    "tags": []
   },
   "outputs": [
    {
     "name": "stdout",
     "output_type": "stream",
     "text": [
      "['i', 'me', 'my', 'myself', 'we', 'our', 'ours', 'ourselves', 'you', \"you're\", \"you've\", \"you'll\", \"you'd\", 'your', 'yours', 'yourself', 'yourselves', 'he', 'him', 'his', 'himself', 'she', \"she's\", 'her', 'hers', 'herself', 'it', \"it's\", 'its', 'itself', 'they', 'them', 'their', 'theirs', 'themselves', 'what', 'which', 'who', 'whom', 'this', 'that', \"that'll\", 'these', 'those', 'am', 'is', 'are', 'was', 'were', 'be', 'been', 'being', 'have', 'has', 'had', 'having', 'do', 'does', 'did', 'doing', 'a', 'an', 'the', 'and', 'but', 'if', 'or', 'because', 'as', 'until', 'while', 'of', 'at', 'by', 'for', 'with', 'about', 'against', 'between', 'into', 'through', 'during', 'before', 'after', 'above', 'below', 'to', 'from', 'up', 'down', 'in', 'out', 'on', 'off', 'over', 'under', 'again', 'further', 'then', 'once', 'here', 'there', 'when', 'where', 'why', 'how', 'all', 'any', 'both', 'each', 'few', 'more', 'most', 'other', 'some', 'such', 'no', 'nor', 'not', 'only', 'own', 'same', 'so', 'than', 'too', 'very', 's', 't', 'can', 'will', 'just', 'don', \"don't\", 'should', \"should've\", 'now', 'd', 'll', 'm', 'o', 're', 've', 'y', 'ain', 'aren', \"aren't\", 'couldn', \"couldn't\", 'didn', \"didn't\", 'doesn', \"doesn't\", 'hadn', \"hadn't\", 'hasn', \"hasn't\", 'haven', \"haven't\", 'isn', \"isn't\", 'ma', 'mightn', \"mightn't\", 'mustn', \"mustn't\", 'needn', \"needn't\", 'shan', \"shan't\", 'shouldn', \"shouldn't\", 'wasn', \"wasn't\", 'weren', \"weren't\", 'won', \"won't\", 'wouldn', \"wouldn't\"]\n"
     ]
    }
   ],
   "source": [
    "print(stopwords)"
   ]
  },
  {
   "cell_type": "code",
   "execution_count": 9,
   "id": "d84a66c2",
   "metadata": {
    "execution": {
     "iopub.execute_input": "2024-02-17T13:18:09.213921Z",
     "iopub.status.busy": "2024-02-17T13:18:09.213491Z",
     "iopub.status.idle": "2024-02-17T13:18:09.218429Z",
     "shell.execute_reply": "2024-02-17T13:18:09.217354Z"
    },
    "papermill": {
     "duration": 0.016444,
     "end_time": "2024-02-17T13:18:09.220208",
     "exception": false,
     "start_time": "2024-02-17T13:18:09.203764",
     "status": "completed"
    },
    "tags": []
   },
   "outputs": [],
   "source": [
    "def rem_stopwords(text):\n",
    "    clean=[]\n",
    "    for word in text.split():\n",
    "        if word not in stopwords:\n",
    "            clean.append(word)\n",
    "    return \" \".join(clean)\n",
    "    "
   ]
  },
  {
   "cell_type": "code",
   "execution_count": 10,
   "id": "484dab23",
   "metadata": {
    "execution": {
     "iopub.execute_input": "2024-02-17T13:18:09.239634Z",
     "iopub.status.busy": "2024-02-17T13:18:09.239261Z",
     "iopub.status.idle": "2024-02-17T13:18:27.142215Z",
     "shell.execute_reply": "2024-02-17T13:18:27.140849Z"
    },
    "papermill": {
     "duration": 17.91566,
     "end_time": "2024-02-17T13:18:27.144612",
     "exception": false,
     "start_time": "2024-02-17T13:18:09.228952",
     "status": "completed"
    },
    "tags": []
   },
   "outputs": [],
   "source": [
    "df[\"review\"]=df[\"review\"].apply(rem_stopwords)"
   ]
  },
  {
   "cell_type": "code",
   "execution_count": 11,
   "id": "9ac83a4a",
   "metadata": {
    "execution": {
     "iopub.execute_input": "2024-02-17T13:18:27.162596Z",
     "iopub.status.busy": "2024-02-17T13:18:27.162223Z",
     "iopub.status.idle": "2024-02-17T13:18:27.302282Z",
     "shell.execute_reply": "2024-02-17T13:18:27.301224Z"
    },
    "papermill": {
     "duration": 0.15221,
     "end_time": "2024-02-17T13:18:27.304939",
     "exception": false,
     "start_time": "2024-02-17T13:18:27.152729",
     "status": "completed"
    },
    "tags": []
   },
   "outputs": [],
   "source": [
    "df.drop_duplicates(inplace=True)"
   ]
  },
  {
   "cell_type": "code",
   "execution_count": 12,
   "id": "464f6e52",
   "metadata": {
    "execution": {
     "iopub.execute_input": "2024-02-17T13:18:27.322517Z",
     "iopub.status.busy": "2024-02-17T13:18:27.322092Z",
     "iopub.status.idle": "2024-02-17T13:18:27.441915Z",
     "shell.execute_reply": "2024-02-17T13:18:27.440804Z"
    },
    "papermill": {
     "duration": 0.130947,
     "end_time": "2024-02-17T13:18:27.443917",
     "exception": false,
     "start_time": "2024-02-17T13:18:27.312970",
     "status": "completed"
    },
    "tags": []
   },
   "outputs": [
    {
     "data": {
      "text/plain": [
       "0"
      ]
     },
     "execution_count": 12,
     "metadata": {},
     "output_type": "execute_result"
    }
   ],
   "source": [
    "df.duplicated().sum()"
   ]
  },
  {
   "cell_type": "code",
   "execution_count": 13,
   "id": "8e350eeb",
   "metadata": {
    "execution": {
     "iopub.execute_input": "2024-02-17T13:18:27.460448Z",
     "iopub.status.busy": "2024-02-17T13:18:27.460063Z",
     "iopub.status.idle": "2024-02-17T13:18:27.512504Z",
     "shell.execute_reply": "2024-02-17T13:18:27.511365Z"
    },
    "papermill": {
     "duration": 0.062749,
     "end_time": "2024-02-17T13:18:27.514440",
     "exception": false,
     "start_time": "2024-02-17T13:18:27.451691",
     "status": "completed"
    },
    "tags": []
   },
   "outputs": [],
   "source": [
    "df[\"review\"]=df[\"review\"].apply(lambda x : x.replace('\"',\"\"))"
   ]
  },
  {
   "cell_type": "code",
   "execution_count": 14,
   "id": "a8a09e2c",
   "metadata": {
    "execution": {
     "iopub.execute_input": "2024-02-17T13:18:27.532669Z",
     "iopub.status.busy": "2024-02-17T13:18:27.532294Z",
     "iopub.status.idle": "2024-02-17T13:18:27.614332Z",
     "shell.execute_reply": "2024-02-17T13:18:27.612541Z"
    },
    "papermill": {
     "duration": 0.095879,
     "end_time": "2024-02-17T13:18:27.618275",
     "exception": false,
     "start_time": "2024-02-17T13:18:27.522396",
     "status": "completed"
    },
    "tags": []
   },
   "outputs": [],
   "source": [
    "df[\"review\"]=df[\"review\"].apply(lambda x : x.replace(',',\"\"))"
   ]
  },
  {
   "cell_type": "code",
   "execution_count": 15,
   "id": "5b0c5138",
   "metadata": {
    "execution": {
     "iopub.execute_input": "2024-02-17T13:18:27.636645Z",
     "iopub.status.busy": "2024-02-17T13:18:27.636294Z",
     "iopub.status.idle": "2024-02-17T13:18:48.494889Z",
     "shell.execute_reply": "2024-02-17T13:18:48.493443Z"
    },
    "papermill": {
     "duration": 20.870804,
     "end_time": "2024-02-17T13:18:48.497318",
     "exception": false,
     "start_time": "2024-02-17T13:18:27.626514",
     "status": "completed"
    },
    "tags": []
   },
   "outputs": [],
   "source": [
    "import gensim\n",
    "from gensim.utils import simple_preprocess"
   ]
  },
  {
   "cell_type": "code",
   "execution_count": 16,
   "id": "79b9100f",
   "metadata": {
    "execution": {
     "iopub.execute_input": "2024-02-17T13:18:48.515249Z",
     "iopub.status.busy": "2024-02-17T13:18:48.514839Z",
     "iopub.status.idle": "2024-02-17T13:18:48.520342Z",
     "shell.execute_reply": "2024-02-17T13:18:48.518889Z"
    },
    "papermill": {
     "duration": 0.017263,
     "end_time": "2024-02-17T13:18:48.522699",
     "exception": false,
     "start_time": "2024-02-17T13:18:48.505436",
     "status": "completed"
    },
    "tags": []
   },
   "outputs": [],
   "source": [
    "def gensim_preprocess(text):\n",
    "    cleaned=simple_preprocess(text)\n",
    "    \n",
    "    return cleaned"
   ]
  },
  {
   "cell_type": "code",
   "execution_count": 17,
   "id": "6d73451d",
   "metadata": {
    "execution": {
     "iopub.execute_input": "2024-02-17T13:18:48.540121Z",
     "iopub.status.busy": "2024-02-17T13:18:48.539700Z",
     "iopub.status.idle": "2024-02-17T13:18:56.375040Z",
     "shell.execute_reply": "2024-02-17T13:18:56.373657Z"
    },
    "papermill": {
     "duration": 7.846967,
     "end_time": "2024-02-17T13:18:56.377628",
     "exception": false,
     "start_time": "2024-02-17T13:18:48.530661",
     "status": "completed"
    },
    "tags": []
   },
   "outputs": [],
   "source": [
    "df[\"review\"]=df[\"review\"].apply(gensim_preprocess)"
   ]
  },
  {
   "cell_type": "code",
   "execution_count": 18,
   "id": "1a947515",
   "metadata": {
    "execution": {
     "iopub.execute_input": "2024-02-17T13:18:56.396579Z",
     "iopub.status.busy": "2024-02-17T13:18:56.396169Z",
     "iopub.status.idle": "2024-02-17T13:18:56.409857Z",
     "shell.execute_reply": "2024-02-17T13:18:56.408447Z"
    },
    "papermill": {
     "duration": 0.026667,
     "end_time": "2024-02-17T13:18:56.412510",
     "exception": false,
     "start_time": "2024-02-17T13:18:56.385843",
     "status": "completed"
    },
    "tags": []
   },
   "outputs": [
    {
     "data": {
      "text/plain": [
       "35494    [paid, piece, crap, want, money, back, grade, ...\n",
       "17717    [always, get, frustrated, films, obviously, wr...\n",
       "783      [commented, worst, elvis, movie, ever, made, w...\n",
       "Name: review, dtype: object"
      ]
     },
     "execution_count": 18,
     "metadata": {},
     "output_type": "execute_result"
    }
   ],
   "source": [
    "df[\"review\"].sample(3)"
   ]
  },
  {
   "cell_type": "code",
   "execution_count": 19,
   "id": "ab86a337",
   "metadata": {
    "execution": {
     "iopub.execute_input": "2024-02-17T13:18:56.429855Z",
     "iopub.status.busy": "2024-02-17T13:18:56.429502Z",
     "iopub.status.idle": "2024-02-17T13:18:56.434792Z",
     "shell.execute_reply": "2024-02-17T13:18:56.433374Z"
    },
    "papermill": {
     "duration": 0.017341,
     "end_time": "2024-02-17T13:18:56.437898",
     "exception": false,
     "start_time": "2024-02-17T13:18:56.420557",
     "status": "completed"
    },
    "tags": []
   },
   "outputs": [],
   "source": [
    "# now tokenize\n",
    "\n",
    "from keras.preprocessing.text import Tokenizer\n",
    "\n",
    "tok=Tokenizer()"
   ]
  },
  {
   "cell_type": "code",
   "execution_count": 20,
   "id": "cf34544c",
   "metadata": {
    "execution": {
     "iopub.execute_input": "2024-02-17T13:18:56.455859Z",
     "iopub.status.busy": "2024-02-17T13:18:56.455444Z",
     "iopub.status.idle": "2024-02-17T13:18:56.459819Z",
     "shell.execute_reply": "2024-02-17T13:18:56.458840Z"
    },
    "papermill": {
     "duration": 0.015626,
     "end_time": "2024-02-17T13:18:56.461579",
     "exception": false,
     "start_time": "2024-02-17T13:18:56.445953",
     "status": "completed"
    },
    "tags": []
   },
   "outputs": [],
   "source": [
    "x=df[\"review\"]\n",
    "y=df[\"sentiment\"]"
   ]
  },
  {
   "cell_type": "code",
   "execution_count": 21,
   "id": "9b40a3d2",
   "metadata": {
    "execution": {
     "iopub.execute_input": "2024-02-17T13:18:56.479035Z",
     "iopub.status.busy": "2024-02-17T13:18:56.478640Z",
     "iopub.status.idle": "2024-02-17T13:18:56.500810Z",
     "shell.execute_reply": "2024-02-17T13:18:56.499422Z"
    },
    "papermill": {
     "duration": 0.03381,
     "end_time": "2024-02-17T13:18:56.503381",
     "exception": false,
     "start_time": "2024-02-17T13:18:56.469571",
     "status": "completed"
    },
    "tags": []
   },
   "outputs": [],
   "source": [
    "y=y.apply(lambda x: 1 if x==\"positive\" else 0)"
   ]
  },
  {
   "cell_type": "code",
   "execution_count": 22,
   "id": "8ec94960",
   "metadata": {
    "execution": {
     "iopub.execute_input": "2024-02-17T13:18:56.522794Z",
     "iopub.status.busy": "2024-02-17T13:18:56.522391Z",
     "iopub.status.idle": "2024-02-17T13:18:56.535406Z",
     "shell.execute_reply": "2024-02-17T13:18:56.534014Z"
    },
    "papermill": {
     "duration": 0.025216,
     "end_time": "2024-02-17T13:18:56.537739",
     "exception": false,
     "start_time": "2024-02-17T13:18:56.512523",
     "status": "completed"
    },
    "tags": []
   },
   "outputs": [],
   "source": [
    "from sklearn.model_selection import train_test_split\n",
    "\n",
    "X_train,X_test,y_train,y_test=train_test_split(x,y,test_size=0.2,random_state=1)"
   ]
  },
  {
   "cell_type": "code",
   "execution_count": 23,
   "id": "7c518659",
   "metadata": {
    "execution": {
     "iopub.execute_input": "2024-02-17T13:18:56.555974Z",
     "iopub.status.busy": "2024-02-17T13:18:56.555346Z",
     "iopub.status.idle": "2024-02-17T13:18:56.567008Z",
     "shell.execute_reply": "2024-02-17T13:18:56.566033Z"
    },
    "papermill": {
     "duration": 0.023117,
     "end_time": "2024-02-17T13:18:56.569027",
     "exception": false,
     "start_time": "2024-02-17T13:18:56.545910",
     "status": "completed"
    },
    "tags": []
   },
   "outputs": [
    {
     "data": {
      "text/plain": [
       "15487    [call, we, re, back, dinosaur, story, simply, ...\n",
       "15103    [give, five, five, marks, hendrix, delivers, d...\n",
       "32741    [problem, tv, today, people, spoiled, lite, tv...\n",
       "40       [clichés, movies, type, substance, plot, went,...\n",
       "11786    [big, fan, musicals, loved, films, fred, astai...\n",
       "                               ...                        \n",
       "44037    [watching, series, probably, make, feel, like,...\n",
       "32697    [went, movie, knowing, nothing, it, ended, rea...\n",
       "5195     [lot, horror, fans, seem, love, scarecrows, po...\n",
       "12195    [first, minutes, every, cliche, possible, trot...\n",
       "33190    [begin, fear, dentists, movie, gives, creeps, ...\n",
       "Name: review, Length: 39663, dtype: object"
      ]
     },
     "execution_count": 23,
     "metadata": {},
     "output_type": "execute_result"
    }
   ],
   "source": [
    "X_train"
   ]
  },
  {
   "cell_type": "code",
   "execution_count": 24,
   "id": "960cbe2d",
   "metadata": {
    "execution": {
     "iopub.execute_input": "2024-02-17T13:18:56.586963Z",
     "iopub.status.busy": "2024-02-17T13:18:56.586482Z",
     "iopub.status.idle": "2024-02-17T13:19:01.203543Z",
     "shell.execute_reply": "2024-02-17T13:19:01.201433Z"
    },
    "papermill": {
     "duration": 4.628958,
     "end_time": "2024-02-17T13:19:01.206024",
     "exception": false,
     "start_time": "2024-02-17T13:18:56.577066",
     "status": "completed"
    },
    "tags": []
   },
   "outputs": [],
   "source": [
    "tok.fit_on_texts(X_train)"
   ]
  },
  {
   "cell_type": "code",
   "execution_count": 25,
   "id": "b92fcdef",
   "metadata": {
    "execution": {
     "iopub.execute_input": "2024-02-17T13:19:01.224376Z",
     "iopub.status.busy": "2024-02-17T13:19:01.223750Z",
     "iopub.status.idle": "2024-02-17T13:19:01.229032Z",
     "shell.execute_reply": "2024-02-17T13:19:01.228137Z"
    },
    "papermill": {
     "duration": 0.016898,
     "end_time": "2024-02-17T13:19:01.231327",
     "exception": false,
     "start_time": "2024-02-17T13:19:01.214429",
     "status": "completed"
    },
    "tags": []
   },
   "outputs": [
    {
     "data": {
      "text/plain": [
       "96805"
      ]
     },
     "execution_count": 25,
     "metadata": {},
     "output_type": "execute_result"
    }
   ],
   "source": [
    "len(tok.word_index)"
   ]
  },
  {
   "cell_type": "code",
   "execution_count": 26,
   "id": "c487be98",
   "metadata": {
    "execution": {
     "iopub.execute_input": "2024-02-17T13:19:01.250313Z",
     "iopub.status.busy": "2024-02-17T13:19:01.249878Z",
     "iopub.status.idle": "2024-02-17T13:19:04.255138Z",
     "shell.execute_reply": "2024-02-17T13:19:04.253321Z"
    },
    "papermill": {
     "duration": 3.018072,
     "end_time": "2024-02-17T13:19:04.257915",
     "exception": false,
     "start_time": "2024-02-17T13:19:01.239843",
     "status": "completed"
    },
    "tags": []
   },
   "outputs": [],
   "source": [
    "X_train = tok.texts_to_sequences(X_train)\n",
    "X_test = tok.texts_to_sequences(X_test)"
   ]
  },
  {
   "cell_type": "code",
   "execution_count": 27,
   "id": "1b41fb00",
   "metadata": {
    "execution": {
     "iopub.execute_input": "2024-02-17T13:19:04.283795Z",
     "iopub.status.busy": "2024-02-17T13:19:04.283165Z",
     "iopub.status.idle": "2024-02-17T13:19:04.305907Z",
     "shell.execute_reply": "2024-02-17T13:19:04.304740Z"
    },
    "papermill": {
     "duration": 0.036498,
     "end_time": "2024-02-17T13:19:04.307599",
     "exception": false,
     "start_time": "2024-02-17T13:19:04.271101",
     "status": "completed"
    },
    "tags": []
   },
   "outputs": [
    {
     "data": {
      "text/plain": [
       "[570,\n",
       " 355,\n",
       " 160,\n",
       " 58,\n",
       " 4067,\n",
       " 11,\n",
       " 242,\n",
       " 10075,\n",
       " 224,\n",
       " 7642,\n",
       " 1143,\n",
       " 156,\n",
       " 124,\n",
       " 32,\n",
       " 4,\n",
       " 1039,\n",
       " 1640,\n",
       " 807,\n",
       " 2463,\n",
       " 2088,\n",
       " 3042,\n",
       " 3,\n",
       " 907,\n",
       " 14888,\n",
       " 13,\n",
       " 1965,\n",
       " 424,\n",
       " 12,\n",
       " 2082,\n",
       " 2263,\n",
       " 214,\n",
       " 6472,\n",
       " 20765,\n",
       " 9539,\n",
       " 3064,\n",
       " 7352,\n",
       " 2509,\n",
       " 29946,\n",
       " 2368,\n",
       " 422,\n",
       " 5069,\n",
       " 4811,\n",
       " 39732,\n",
       " 1271,\n",
       " 1375,\n",
       " 243,\n",
       " 2037,\n",
       " 609,\n",
       " 10875,\n",
       " 32,\n",
       " 261,\n",
       " 188,\n",
       " 6473,\n",
       " 147,\n",
       " 3918,\n",
       " 41,\n",
       " 2588,\n",
       " 8223,\n",
       " 299,\n",
       " 1364,\n",
       " 695,\n",
       " 8224,\n",
       " 94,\n",
       " 3322,\n",
       " 481,\n",
       " 2210,\n",
       " 2734,\n",
       " 5011,\n",
       " 3,\n",
       " 183,\n",
       " 27929,\n",
       " 12773,\n",
       " 112,\n",
       " 163,\n",
       " 384,\n",
       " 1022,\n",
       " 86,\n",
       " 95,\n",
       " 1,\n",
       " 55,\n",
       " 323,\n",
       " 2717,\n",
       " 148,\n",
       " 1446,\n",
       " 1227,\n",
       " 403,\n",
       " 191,\n",
       " 10723,\n",
       " 15244,\n",
       " 143,\n",
       " 10,\n",
       " 70,\n",
       " 53,\n",
       " 214,\n",
       " 6472,\n",
       " 3899,\n",
       " 466,\n",
       " 344,\n",
       " 11035,\n",
       " 466,\n",
       " 69,\n",
       " 1657,\n",
       " 11036,\n",
       " 189,\n",
       " 223]"
      ]
     },
     "execution_count": 27,
     "metadata": {},
     "output_type": "execute_result"
    }
   ],
   "source": [
    "X_train[0]"
   ]
  },
  {
   "cell_type": "code",
   "execution_count": 28,
   "id": "78fe7d2d",
   "metadata": {
    "execution": {
     "iopub.execute_input": "2024-02-17T13:19:04.326466Z",
     "iopub.status.busy": "2024-02-17T13:19:04.325859Z",
     "iopub.status.idle": "2024-02-17T13:19:04.329651Z",
     "shell.execute_reply": "2024-02-17T13:19:04.328966Z"
    },
    "papermill": {
     "duration": 0.015915,
     "end_time": "2024-02-17T13:19:04.331922",
     "exception": false,
     "start_time": "2024-02-17T13:19:04.316007",
     "status": "completed"
    },
    "tags": []
   },
   "outputs": [],
   "source": [
    "from keras.preprocessing.sequence import pad_sequences"
   ]
  },
  {
   "cell_type": "code",
   "execution_count": 29,
   "id": "c8b9a028",
   "metadata": {
    "execution": {
     "iopub.execute_input": "2024-02-17T13:19:04.351330Z",
     "iopub.status.busy": "2024-02-17T13:19:04.350857Z",
     "iopub.status.idle": "2024-02-17T13:19:04.702897Z",
     "shell.execute_reply": "2024-02-17T13:19:04.701744Z"
    },
    "papermill": {
     "duration": 0.364684,
     "end_time": "2024-02-17T13:19:04.705507",
     "exception": false,
     "start_time": "2024-02-17T13:19:04.340823",
     "status": "completed"
    },
    "tags": []
   },
   "outputs": [],
   "source": [
    "X_train=pad_sequences(X_train,maxlen=100,padding=\"post\")\n",
    "X_test=pad_sequences(X_test,maxlen=100,padding=\"post\")"
   ]
  },
  {
   "cell_type": "code",
   "execution_count": 30,
   "id": "74ee544f",
   "metadata": {
    "execution": {
     "iopub.execute_input": "2024-02-17T13:19:04.725505Z",
     "iopub.status.busy": "2024-02-17T13:19:04.725064Z",
     "iopub.status.idle": "2024-02-17T13:19:04.733519Z",
     "shell.execute_reply": "2024-02-17T13:19:04.731640Z"
    },
    "papermill": {
     "duration": 0.02123,
     "end_time": "2024-02-17T13:19:04.736065",
     "exception": false,
     "start_time": "2024-02-17T13:19:04.714835",
     "status": "completed"
    },
    "tags": []
   },
   "outputs": [
    {
     "data": {
      "text/plain": [
       "array([   11,   242, 10075,   224,  7642,  1143,   156,   124,    32,\n",
       "           4,  1039,  1640,   807,  2463,  2088,  3042,     3,   907,\n",
       "       14888,    13,  1965,   424,    12,  2082,  2263,   214,  6472,\n",
       "       20765,  9539,  3064,  7352,  2509, 29946,  2368,   422,  5069,\n",
       "        4811, 39732,  1271,  1375,   243,  2037,   609, 10875,    32,\n",
       "         261,   188,  6473,   147,  3918,    41,  2588,  8223,   299,\n",
       "        1364,   695,  8224,    94,  3322,   481,  2210,  2734,  5011,\n",
       "           3,   183, 27929, 12773,   112,   163,   384,  1022,    86,\n",
       "          95,     1,    55,   323,  2717,   148,  1446,  1227,   403,\n",
       "         191, 10723, 15244,   143,    10,    70,    53,   214,  6472,\n",
       "        3899,   466,   344, 11035,   466,    69,  1657, 11036,   189,\n",
       "         223], dtype=int32)"
      ]
     },
     "execution_count": 30,
     "metadata": {},
     "output_type": "execute_result"
    }
   ],
   "source": [
    "X_train[0]"
   ]
  },
  {
   "cell_type": "code",
   "execution_count": 31,
   "id": "37e92c9c",
   "metadata": {
    "execution": {
     "iopub.execute_input": "2024-02-17T13:19:04.755947Z",
     "iopub.status.busy": "2024-02-17T13:19:04.755327Z",
     "iopub.status.idle": "2024-02-17T13:19:04.759822Z",
     "shell.execute_reply": "2024-02-17T13:19:04.758569Z"
    },
    "papermill": {
     "duration": 0.01714,
     "end_time": "2024-02-17T13:19:04.762197",
     "exception": false,
     "start_time": "2024-02-17T13:19:04.745057",
     "status": "completed"
    },
    "tags": []
   },
   "outputs": [],
   "source": [
    "from keras.layers import Dense,Embedding,LSTM\n",
    "from keras.models import Sequential"
   ]
  },
  {
   "cell_type": "code",
   "execution_count": null,
   "id": "0e02e838",
   "metadata": {
    "papermill": {
     "duration": 0.008215,
     "end_time": "2024-02-17T13:19:04.779233",
     "exception": false,
     "start_time": "2024-02-17T13:19:04.771018",
     "status": "completed"
    },
    "tags": []
   },
   "outputs": [],
   "source": []
  },
  {
   "cell_type": "code",
   "execution_count": 32,
   "id": "5871c4a9",
   "metadata": {
    "execution": {
     "iopub.execute_input": "2024-02-17T13:19:04.799890Z",
     "iopub.status.busy": "2024-02-17T13:19:04.799275Z",
     "iopub.status.idle": "2024-02-17T13:19:04.805563Z",
     "shell.execute_reply": "2024-02-17T13:19:04.804839Z"
    },
    "papermill": {
     "duration": 0.019623,
     "end_time": "2024-02-17T13:19:04.807750",
     "exception": false,
     "start_time": "2024-02-17T13:19:04.788127",
     "status": "completed"
    },
    "tags": []
   },
   "outputs": [
    {
     "data": {
      "text/plain": [
       "0        1\n",
       "1        1\n",
       "2        1\n",
       "3        0\n",
       "4        1\n",
       "        ..\n",
       "49995    1\n",
       "49996    0\n",
       "49997    0\n",
       "49998    0\n",
       "49999    0\n",
       "Name: sentiment, Length: 49579, dtype: int64"
      ]
     },
     "execution_count": 32,
     "metadata": {},
     "output_type": "execute_result"
    }
   ],
   "source": [
    "y"
   ]
  },
  {
   "cell_type": "code",
   "execution_count": 33,
   "id": "1fb4ae70",
   "metadata": {
    "execution": {
     "iopub.execute_input": "2024-02-17T13:19:04.828360Z",
     "iopub.status.busy": "2024-02-17T13:19:04.827966Z",
     "iopub.status.idle": "2024-02-17T13:19:05.263753Z",
     "shell.execute_reply": "2024-02-17T13:19:05.262639Z"
    },
    "papermill": {
     "duration": 0.449499,
     "end_time": "2024-02-17T13:19:05.266125",
     "exception": false,
     "start_time": "2024-02-17T13:19:04.816626",
     "status": "completed"
    },
    "tags": []
   },
   "outputs": [],
   "source": [
    "model=Sequential()\n",
    "model.add(Embedding(input_dim=len(tok.index_word)+1, output_dim=100,input_length=100))\n",
    "model.add(LSTM(150))\n",
    "model.add(Dense(units=1, activation='sigmoid'))"
   ]
  },
  {
   "cell_type": "code",
   "execution_count": 34,
   "id": "1142e145",
   "metadata": {
    "execution": {
     "iopub.execute_input": "2024-02-17T13:19:05.286544Z",
     "iopub.status.busy": "2024-02-17T13:19:05.285180Z",
     "iopub.status.idle": "2024-02-17T13:19:05.308572Z",
     "shell.execute_reply": "2024-02-17T13:19:05.307485Z"
    },
    "papermill": {
     "duration": 0.035554,
     "end_time": "2024-02-17T13:19:05.310578",
     "exception": false,
     "start_time": "2024-02-17T13:19:05.275024",
     "status": "completed"
    },
    "tags": []
   },
   "outputs": [],
   "source": [
    "model.compile(optimizer='adam', loss='binary_crossentropy', metrics=['accuracy'])"
   ]
  },
  {
   "cell_type": "code",
   "execution_count": null,
   "id": "5d3c4b3c",
   "metadata": {
    "papermill": {
     "duration": 0.008219,
     "end_time": "2024-02-17T13:19:05.327802",
     "exception": false,
     "start_time": "2024-02-17T13:19:05.319583",
     "status": "completed"
    },
    "tags": []
   },
   "outputs": [],
   "source": []
  },
  {
   "cell_type": "code",
   "execution_count": 35,
   "id": "dc3bf89e",
   "metadata": {
    "execution": {
     "iopub.execute_input": "2024-02-17T13:19:05.347324Z",
     "iopub.status.busy": "2024-02-17T13:19:05.345954Z",
     "iopub.status.idle": "2024-02-17T13:40:05.347533Z",
     "shell.execute_reply": "2024-02-17T13:40:05.345968Z"
    },
    "papermill": {
     "duration": 1260.455166,
     "end_time": "2024-02-17T13:40:05.791479",
     "exception": false,
     "start_time": "2024-02-17T13:19:05.336313",
     "status": "completed"
    },
    "tags": []
   },
   "outputs": [
    {
     "name": "stdout",
     "output_type": "stream",
     "text": [
      "Epoch 1/10\n",
      "635/635 [==============================] - 129s 200ms/step - loss: 0.5135 - accuracy: 0.7458 - val_loss: 0.3455 - val_accuracy: 0.8568\n",
      "Epoch 2/10\n",
      "635/635 [==============================] - 129s 202ms/step - loss: 0.2448 - accuracy: 0.9106 - val_loss: 0.3268 - val_accuracy: 0.8684\n",
      "Epoch 3/10\n",
      "635/635 [==============================] - 127s 201ms/step - loss: 0.1330 - accuracy: 0.9579 - val_loss: 0.3765 - val_accuracy: 0.8650\n",
      "Epoch 4/10\n",
      "635/635 [==============================] - 125s 197ms/step - loss: 0.1087 - accuracy: 0.9676 - val_loss: 0.5114 - val_accuracy: 0.8523\n",
      "Epoch 5/10\n",
      "635/635 [==============================] - 125s 197ms/step - loss: 0.2657 - accuracy: 0.9038 - val_loss: 0.4566 - val_accuracy: 0.8482\n",
      "Epoch 6/10\n",
      "635/635 [==============================] - 126s 198ms/step - loss: 0.1170 - accuracy: 0.9638 - val_loss: 0.4327 - val_accuracy: 0.8607\n",
      "Epoch 7/10\n",
      "635/635 [==============================] - 126s 198ms/step - loss: 0.0575 - accuracy: 0.9832 - val_loss: 0.5205 - val_accuracy: 0.8602\n",
      "Epoch 8/10\n",
      "635/635 [==============================] - 125s 197ms/step - loss: 0.0341 - accuracy: 0.9916 - val_loss: 0.5643 - val_accuracy: 0.8565\n",
      "Epoch 9/10\n",
      "635/635 [==============================] - 125s 197ms/step - loss: 0.0231 - accuracy: 0.9948 - val_loss: 0.6208 - val_accuracy: 0.8611\n",
      "Epoch 10/10\n",
      "635/635 [==============================] - 124s 195ms/step - loss: 0.0196 - accuracy: 0.9956 - val_loss: 0.5521 - val_accuracy: 0.8523\n"
     ]
    }
   ],
   "source": [
    "history = model.fit(X_train,y_train , epochs=10, batch_size=50, validation_split=0.2)\n"
   ]
  },
  {
   "cell_type": "code",
   "execution_count": null,
   "id": "045f0545",
   "metadata": {
    "papermill": {
     "duration": 0.381227,
     "end_time": "2024-02-17T13:40:06.553399",
     "exception": false,
     "start_time": "2024-02-17T13:40:06.172172",
     "status": "completed"
    },
    "tags": []
   },
   "outputs": [],
   "source": []
  }
 ],
 "metadata": {
  "kaggle": {
   "accelerator": "none",
   "dataSources": [
    {
     "datasetId": 134715,
     "sourceId": 320111,
     "sourceType": "datasetVersion"
    }
   ],
   "isGpuEnabled": false,
   "isInternetEnabled": true,
   "language": "python",
   "sourceType": "notebook"
  },
  "kernelspec": {
   "display_name": "Python 3",
   "language": "python",
   "name": "python3"
  },
  "language_info": {
   "codemirror_mode": {
    "name": "ipython",
    "version": 3
   },
   "file_extension": ".py",
   "mimetype": "text/x-python",
   "name": "python",
   "nbconvert_exporter": "python",
   "pygments_lexer": "ipython3",
   "version": "3.10.13"
  },
  "papermill": {
   "default_parameters": {},
   "duration": 1344.958437,
   "end_time": "2024-02-17T13:40:09.833317",
   "environment_variables": {},
   "exception": null,
   "input_path": "__notebook__.ipynb",
   "output_path": "__notebook__.ipynb",
   "parameters": {},
   "start_time": "2024-02-17T13:17:44.874880",
   "version": "2.5.0"
  }
 },
 "nbformat": 4,
 "nbformat_minor": 5
}
